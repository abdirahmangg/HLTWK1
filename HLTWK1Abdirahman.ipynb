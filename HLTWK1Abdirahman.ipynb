{
 "cells": [
  {
   "cell_type": "code",
   "execution_count": 17,
   "source": [
    "#TASK1\r\n",
    "import random \r\n",
    "myName = input(\"Hello! What is your name?\")\r\n",
    "number = random.randint(1,10)\r\n",
    "print(\"Well, \" + myName + \"! I am thinking of a number between 1 and 10.\")\r\n",
    "guess = int(input (\"Take a guess\"))\r\n",
    "if guess == number:\r\n",
    "    print(\"Good job,\" +myName+ \"! You guessed my number\")\r\n",
    "else:\r\n",
    "    print (\"Wrong, better luck next time\")\r\n",
    "    "
   ],
   "outputs": [
    {
     "output_type": "stream",
     "name": "stdout",
     "text": [
      "Well, 2! I am thinking of a number between 1 and 10.\n",
      "Wrong, better luck next time\n"
     ]
    }
   ],
   "metadata": {}
  },
  {
   "cell_type": "code",
   "execution_count": 127,
   "source": [
    "#Task2\r\n",
    "import random\r\n",
    "number = random.randint(1,100)\r\n",
    "print (input(\"What is your favourite number?\"))\r\n",
    "if number <=10:\r\n",
    "    print(\"How do you get a squirrel to like you? ...Act like a nut\")\r\n",
    "elif number <=20:\r\n",
    "    print(\"What do you say to a newbie freekick taker?  Bend it like Beckam\")\r\n",
    "elif number <=40:\r\n",
    "    print(\"What building in your town has the most stories?   The public library\")\r\n",
    "elif number <=60:\r\n",
    "     print(\"How do we know that ocean is friendly? It waves\")\r\n",
    "elif number <=80: \r\n",
    "    print(\"How do you talk to a giant? Use big words\")\r\n",
    "elif number <=100:\r\n",
    "    print(\"What animal is always at a baseball game? A bat\")"
   ],
   "outputs": [
    {
     "output_type": "stream",
     "name": "stdout",
     "text": [
      "98\n",
      "What animal is always at a baseball game? A bat\n"
     ]
    }
   ],
   "metadata": {}
  },
  {
   "cell_type": "code",
   "execution_count": 112,
   "source": [
    "print(\"Hello there\")\r\n",
    "Favourite_meal = input(\"What is your favourite meal?\")\r\n",
    "Favourite_drink = input (\"What is your favourite drink?\")\r\n",
    "print(\"My favourite meal is\", Favourite_meal, \"with\", Favourite_drink)"
   ],
   "outputs": [
    {
     "output_type": "stream",
     "name": "stdout",
     "text": [
      "Hello there\n",
      "My favourite meal is pasta with mango juice\n"
     ]
    }
   ],
   "metadata": {}
  },
  {
   "cell_type": "code",
   "execution_count": 7,
   "source": [
    "cost = 2000 #initial cost of the motorbike\r\n",
    "while cost >1000: # if cost is greater the value then following line will be executed\r\n",
    "    cost = cost * 0.9 \r\n",
    "    print(\"cost\",cost) # prints out the cost with interest rate\r\n",
    "\r\n"
   ],
   "outputs": [
    {
     "output_type": "stream",
     "name": "stdout",
     "text": [
      "cost 1800.0\n",
      "cost 1620.0\n",
      "cost 1458.0\n",
      "cost 1312.2\n",
      "cost 1180.98\n",
      "cost 1062.882\n",
      "cost 956.5938000000001\n"
     ]
    }
   ],
   "metadata": {}
  },
  {
   "cell_type": "code",
   "execution_count": 228,
   "source": [
    "#Task5\r\n",
    "print (\"Select an option:\")\r\n",
    "print (\"1 Addition\")\r\n",
    "print (\"2 Subtraction\")\r\n",
    "print (\"3)Multiplication\")\r\n",
    "print (\"4 Division\")\r\n",
    "print (\"5 Sqaure\")\r\n",
    "print (\"5 Quit the program\")\r\n",
    "\r\n",
    "operation = input()\r\n",
    "if operation == \"1\":\r\n",
    "    num1 = input(\"Enter first number\")\r\n",
    "    num2 = input(\"Enter second number\")\r\n",
    "    print(\"The sum is \" + str(int(num1) + int(num2)))\r\n",
    "elif operation == \"2\":\r\n",
    "    num1 = input(\"Enter first number\")\r\n",
    "    num2 = input(\"Enter second number\")\r\n",
    "    print(\"The sum is \" + str(int(num1) - int(num2)))\r\n",
    "elif operation == \"3\":\r\n",
    "    num1 = input(\"Enter first number\")\r\n",
    "    num2 = input(\"Enter second number\")\r\n",
    "    print(\"The sum is \" + str(int(num1) * int(num2)))\r\n",
    "elif operation == \"4\":\r\n",
    "    num1 = input(\"Enter first number\")\r\n",
    "    num2 = input(\"Enter second number\")\r\n",
    "    print(\"The sum is \" + str(int(num1) / int(num2)))\r\n",
    "elif operation == \"5\":\r\n",
    "    num1 = input(\"Enter first number\")\r\n",
    "    num2 = input(\"Enter second number\")\r\n",
    "    print(\"The sum is \" + str(int(num1) ** int(num2)))\r\n",
    "else:\r\n",
    "    print(\"Quit the program\")"
   ],
   "outputs": [
    {
     "output_type": "stream",
     "name": "stdout",
     "text": [
      "Select an option:\n",
      "1 Addition\n",
      "2 Subtraction\n",
      "3)Multiplication\n",
      "4 Division\n",
      "5 Sqaure\n",
      "5 Quit the program\n",
      "The sum is 27\n"
     ]
    }
   ],
   "metadata": {}
  }
 ],
 "metadata": {
  "orig_nbformat": 4,
  "language_info": {
   "name": "python",
   "version": "3.9.7",
   "mimetype": "text/x-python",
   "codemirror_mode": {
    "name": "ipython",
    "version": 3
   },
   "pygments_lexer": "ipython3",
   "nbconvert_exporter": "python",
   "file_extension": ".py"
  },
  "kernelspec": {
   "name": "python3",
   "display_name": "Python 3.9.7 64-bit"
  },
  "interpreter": {
   "hash": "22946d102e8af3181457fd9ce058194eff59f9e28137348b108fdc0d65d83b76"
  }
 },
 "nbformat": 4,
 "nbformat_minor": 2
}